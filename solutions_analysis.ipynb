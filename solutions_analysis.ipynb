{
  "nbformat": 4,
  "nbformat_minor": 0,
  "metadata": {
    "colab": {
      "provenance": []
    },
    "kernelspec": {
      "name": "python3",
      "display_name": "Python 3"
    },
    "language_info": {
      "name": "python"
    }
  },
  "cells": [
    {
      "cell_type": "code",
      "execution_count": 324,
      "metadata": {
        "id": "5bCNZbe8uDyu"
      },
      "outputs": [],
      "source": [
        "import pandas as pd\n",
        "import seaborn as sns\n",
        "import json\n",
        "df=pd.read_json('/content/drive/MyDrive/Colab Notebooks/sample.json')"
      ]
    },
    {
      "cell_type": "code",
      "source": [
        "279, 87, 293"
      ],
      "metadata": {
        "colab": {
          "base_uri": "https://localhost:8080/"
        },
        "id": "ejSrL6FN6H3C",
        "outputId": "89737945-3d22-452a-b2f4-ea40100b103b"
      },
      "execution_count": 325,
      "outputs": [
        {
          "output_type": "execute_result",
          "data": {
            "text/plain": [
              "(279, 87, 293)"
            ]
          },
          "metadata": {},
          "execution_count": 325
        }
      ]
    },
    {
      "cell_type": "code",
      "source": [
        "df_comparison=pd.DataFrame(columns=['algorithm', 'number_of_groups', 'groups_of_size_1', 'groups_of_size_2', 'groups_of_size_3'])"
      ],
      "metadata": {
        "id": "f-IsA14J0oRW"
      },
      "execution_count": 326,
      "outputs": []
    },
    {
      "cell_type": "code",
      "source": [
        "df_comparison"
      ],
      "metadata": {
        "colab": {
          "base_uri": "https://localhost:8080/",
          "height": 53
        },
        "id": "OY8zDsJ12Pvz",
        "outputId": "4b9c2548-95f1-42d5-bb37-37b1d3cb4749"
      },
      "execution_count": 327,
      "outputs": [
        {
          "output_type": "execute_result",
          "data": {
            "text/plain": [
              "Empty DataFrame\n",
              "Columns: [algorithm, number_of_groups, groups_of_size_1, groups_of_size_2, groups_of_size_3]\n",
              "Index: []"
            ],
            "text/html": [
              "\n",
              "  <div id=\"df-78f50f68-dfb1-4cc7-b424-3ae964bb38e4\" class=\"colab-df-container\">\n",
              "    <div>\n",
              "<style scoped>\n",
              "    .dataframe tbody tr th:only-of-type {\n",
              "        vertical-align: middle;\n",
              "    }\n",
              "\n",
              "    .dataframe tbody tr th {\n",
              "        vertical-align: top;\n",
              "    }\n",
              "\n",
              "    .dataframe thead th {\n",
              "        text-align: right;\n",
              "    }\n",
              "</style>\n",
              "<table border=\"1\" class=\"dataframe\">\n",
              "  <thead>\n",
              "    <tr style=\"text-align: right;\">\n",
              "      <th></th>\n",
              "      <th>algorithm</th>\n",
              "      <th>number_of_groups</th>\n",
              "      <th>groups_of_size_1</th>\n",
              "      <th>groups_of_size_2</th>\n",
              "      <th>groups_of_size_3</th>\n",
              "    </tr>\n",
              "  </thead>\n",
              "  <tbody>\n",
              "  </tbody>\n",
              "</table>\n",
              "</div>\n",
              "    <div class=\"colab-df-buttons\">\n",
              "\n",
              "  <div class=\"colab-df-container\">\n",
              "    <button class=\"colab-df-convert\" onclick=\"convertToInteractive('df-78f50f68-dfb1-4cc7-b424-3ae964bb38e4')\"\n",
              "            title=\"Convert this dataframe to an interactive table.\"\n",
              "            style=\"display:none;\">\n",
              "\n",
              "  <svg xmlns=\"http://www.w3.org/2000/svg\" height=\"24px\" viewBox=\"0 -960 960 960\">\n",
              "    <path d=\"M120-120v-720h720v720H120Zm60-500h600v-160H180v160Zm220 220h160v-160H400v160Zm0 220h160v-160H400v160ZM180-400h160v-160H180v160Zm440 0h160v-160H620v160ZM180-180h160v-160H180v160Zm440 0h160v-160H620v160Z\"/>\n",
              "  </svg>\n",
              "    </button>\n",
              "\n",
              "  <style>\n",
              "    .colab-df-container {\n",
              "      display:flex;\n",
              "      gap: 12px;\n",
              "    }\n",
              "\n",
              "    .colab-df-convert {\n",
              "      background-color: #E8F0FE;\n",
              "      border: none;\n",
              "      border-radius: 50%;\n",
              "      cursor: pointer;\n",
              "      display: none;\n",
              "      fill: #1967D2;\n",
              "      height: 32px;\n",
              "      padding: 0 0 0 0;\n",
              "      width: 32px;\n",
              "    }\n",
              "\n",
              "    .colab-df-convert:hover {\n",
              "      background-color: #E2EBFA;\n",
              "      box-shadow: 0px 1px 2px rgba(60, 64, 67, 0.3), 0px 1px 3px 1px rgba(60, 64, 67, 0.15);\n",
              "      fill: #174EA6;\n",
              "    }\n",
              "\n",
              "    .colab-df-buttons div {\n",
              "      margin-bottom: 4px;\n",
              "    }\n",
              "\n",
              "    [theme=dark] .colab-df-convert {\n",
              "      background-color: #3B4455;\n",
              "      fill: #D2E3FC;\n",
              "    }\n",
              "\n",
              "    [theme=dark] .colab-df-convert:hover {\n",
              "      background-color: #434B5C;\n",
              "      box-shadow: 0px 1px 3px 1px rgba(0, 0, 0, 0.15);\n",
              "      filter: drop-shadow(0px 1px 2px rgba(0, 0, 0, 0.3));\n",
              "      fill: #FFFFFF;\n",
              "    }\n",
              "  </style>\n",
              "\n",
              "    <script>\n",
              "      const buttonEl =\n",
              "        document.querySelector('#df-78f50f68-dfb1-4cc7-b424-3ae964bb38e4 button.colab-df-convert');\n",
              "      buttonEl.style.display =\n",
              "        google.colab.kernel.accessAllowed ? 'block' : 'none';\n",
              "\n",
              "      async function convertToInteractive(key) {\n",
              "        const element = document.querySelector('#df-78f50f68-dfb1-4cc7-b424-3ae964bb38e4');\n",
              "        const dataTable =\n",
              "          await google.colab.kernel.invokeFunction('convertToInteractive',\n",
              "                                                    [key], {});\n",
              "        if (!dataTable) return;\n",
              "\n",
              "        const docLinkHtml = 'Like what you see? Visit the ' +\n",
              "          '<a target=\"_blank\" href=https://colab.research.google.com/notebooks/data_table.ipynb>data table notebook</a>'\n",
              "          + ' to learn more about interactive tables.';\n",
              "        element.innerHTML = '';\n",
              "        dataTable['output_type'] = 'display_data';\n",
              "        await google.colab.output.renderOutput(dataTable, element);\n",
              "        const docLink = document.createElement('div');\n",
              "        docLink.innerHTML = docLinkHtml;\n",
              "        element.appendChild(docLink);\n",
              "      }\n",
              "    </script>\n",
              "  </div>\n",
              "\n",
              "    </div>\n",
              "  </div>\n"
            ]
          },
          "metadata": {},
          "execution_count": 327
        }
      ]
    },
    {
      "cell_type": "markdown",
      "source": [
        "###1 алгоритм (Simple)"
      ],
      "metadata": {
        "id": "V8BMe57f0Q_d"
      }
    },
    {
      "cell_type": "code",
      "source": [
        "with open('/content/drive/MyDrive/Colab Notebooks/result_alg_first.json', encoding=\"utf-8\") as sber_file:\n",
        "    solution_alg1 = json.load(sber_file)"
      ],
      "metadata": {
        "id": "7ETm1t3EvvXU"
      },
      "execution_count": 328,
      "outputs": []
    },
    {
      "cell_type": "code",
      "source": [
        "number_of_groups1=len(solution_alg1)\n",
        "gr_size1=0\n",
        "gr_size2=0\n",
        "gr_size3=0\n",
        "for i in range(len(solution_alg1)):\n",
        "    if len(solution_alg1[i])==1:\n",
        "        gr_size1+=1\n",
        "    if len(solution_alg1[i])==2:\n",
        "        gr_size2+=1\n",
        "    if len(solution_alg1[i])==3:\n",
        "        gr_size3+=1\n",
        "df_comparison.loc[len(df_comparison.index)] = ['Алгоритм, учитывающий перемену слов местами и наречия', number_of_groups1, gr_size1, gr_size2, gr_size3]"
      ],
      "metadata": {
        "id": "tdib6ejB3HYe"
      },
      "execution_count": 329,
      "outputs": []
    },
    {
      "cell_type": "markdown",
      "source": [
        "###2 алгоритм"
      ],
      "metadata": {
        "id": "Fe_H0EC_4c96"
      }
    },
    {
      "cell_type": "code",
      "source": [
        "with open('/content/drive/MyDrive/Colab Notebooks/result_clasterization.json', encoding=\"utf-8\") as sber_file:\n",
        "    solution_alg2 = json.load(sber_file)"
      ],
      "metadata": {
        "id": "bQgnpB5A329b"
      },
      "execution_count": 330,
      "outputs": []
    },
    {
      "cell_type": "code",
      "source": [
        "used=[]\n",
        "for i in range(len(solution_alg2)):\n",
        "    for j in range(len(solution_alg2[i])):\n",
        "        if solution_alg2[i][j] not in used:\n",
        "            used.append(solution_alg2[i][j])\n",
        "        else:\n",
        "            print(solution_alg2[i], solution_alg2[i][j])"
      ],
      "metadata": {
        "colab": {
          "base_uri": "https://localhost:8080/"
        },
        "id": "2692i7SJk5Pr",
        "outputId": "f179cb27-3c93-42d2-a716-38be049927cb"
      },
      "execution_count": 331,
      "outputs": [
        {
          "output_type": "stream",
          "name": "stdout",
          "text": [
            "[155, 385] 155\n",
            "[129, 332] 129\n",
            "[23, 267] 23\n"
          ]
        }
      ]
    },
    {
      "cell_type": "code",
      "source": [
        "number_of_groups2=len(solution_alg2)\n",
        "gr_size1=0\n",
        "gr_size2=0\n",
        "gr_size3=0\n",
        "for i in range(len(solution_alg2)):\n",
        "    if len(solution_alg2[i])==1:\n",
        "        gr_size1+=1\n",
        "    if len(solution_alg2[i])==2:\n",
        "        gr_size2+=1\n",
        "    if len(solution_alg2[i])==3:\n",
        "        print(solution_alg2[i])\n",
        "        gr_size3+=1\n",
        "df_comparison.loc[len(df_comparison.index)] = ['Кластеризация с дополнительной обработкой', number_of_groups2, gr_size1, gr_size2, gr_size3]"
      ],
      "metadata": {
        "id": "CIcV2KZm4rus",
        "colab": {
          "base_uri": "https://localhost:8080/"
        },
        "outputId": "838e3bc5-aded-4ce0-92c2-87c6ab233f73"
      },
      "execution_count": 332,
      "outputs": [
        {
          "output_type": "stream",
          "name": "stdout",
          "text": [
            "[87, 279, 293]\n"
          ]
        }
      ]
    },
    {
      "cell_type": "markdown",
      "source": [
        "###3 алгоритм"
      ],
      "metadata": {
        "id": "g8F4zG0i6eGC"
      }
    },
    {
      "cell_type": "code",
      "source": [
        "with open('/content/drive/MyDrive/Colab Notebooks/result_metrics_linear_model.json', encoding=\"utf-8\") as sber_file:\n",
        "    solution_alg3 = json.load(sber_file)"
      ],
      "metadata": {
        "id": "wjykmDEN6gcp"
      },
      "execution_count": 333,
      "outputs": []
    },
    {
      "cell_type": "code",
      "source": [
        "number_of_groups3=len(solution_alg3)\n",
        "gr_size1=0\n",
        "gr_size2=0\n",
        "gr_size3=0\n",
        "for i in range(len(solution_alg3)):\n",
        "    if len(solution_alg3[i])==1:\n",
        "        gr_size1+=1\n",
        "    if len(solution_alg3[i])==2:\n",
        "        gr_size2+=1\n",
        "    if len(solution_alg3[i])==3:\n",
        "        gr_size3+=1\n",
        "df_comparison.loc[len(df_comparison.index)] = ['Линейная модель, использующая различные метрики', number_of_groups3, gr_size1, gr_size2, gr_size3]"
      ],
      "metadata": {
        "id": "ZN8ejkB_6mFy"
      },
      "execution_count": 334,
      "outputs": []
    },
    {
      "cell_type": "markdown",
      "source": [
        "###4 алгоритм"
      ],
      "metadata": {
        "id": "wDPHb4wKJFdj"
      }
    },
    {
      "cell_type": "code",
      "source": [
        "with open('/content/drive/MyDrive/Colab Notebooks/result_alg_smart.json', encoding=\"utf-8\") as sber_file:\n",
        "    solution_alg4 = json.load(sber_file)"
      ],
      "metadata": {
        "id": "DcwnuKM9JEbQ"
      },
      "execution_count": 335,
      "outputs": []
    },
    {
      "cell_type": "code",
      "source": [
        "number_of_groups4=len(solution_alg4)\n",
        "gr_size1=0\n",
        "gr_size2=0\n",
        "gr_size3=0\n",
        "for i in range(len(solution_alg4)):\n",
        "    if len(solution_alg4[i])==1:\n",
        "        gr_size1+=1\n",
        "    if len(solution_alg4[i])==2:\n",
        "        gr_size2+=1\n",
        "    if len(solution_alg4[i])>=3:\n",
        "        gr_size3+=1\n",
        "df_comparison.loc[len(df_comparison.index)] = ['Алгоритм, использующий словарь', number_of_groups4, gr_size1, gr_size2, gr_size3]"
      ],
      "metadata": {
        "id": "Zko0PaSnJKLV"
      },
      "execution_count": 336,
      "outputs": []
    },
    {
      "cell_type": "markdown",
      "source": [
        "###5 алгоритм"
      ],
      "metadata": {
        "id": "P0CtZw0-mIl0"
      }
    },
    {
      "cell_type": "code",
      "source": [
        "with open('/content/drive/MyDrive/Colab Notebooks/result_alg_author_style.json', encoding=\"utf-8\") as sber_file:\n",
        "    solution_alg5 = json.load(sber_file)\n",
        "number_of_groups5=len(solution_alg5)\n",
        "gr_size1=0\n",
        "gr_size2=0\n",
        "gr_size3=0\n",
        "for i in range(len(solution_alg5)):\n",
        "    if len(solution_alg5[i])==1:\n",
        "        gr_size1+=1\n",
        "    if len(solution_alg5[i])==2:\n",
        "        gr_size2+=1\n",
        "    if len(solution_alg5[i])>=3:\n",
        "        gr_size3+=1\n",
        "df_comparison.loc[len(df_comparison.index)] = ['Алгоритм, опирающийся на стиль автора, + доп обработка в виде n_gramms', number_of_groups4, gr_size1, gr_size2, gr_size3]"
      ],
      "metadata": {
        "id": "xdj_HbLRfQgX"
      },
      "execution_count": 337,
      "outputs": []
    },
    {
      "cell_type": "code",
      "source": [
        "df_comparison"
      ],
      "metadata": {
        "colab": {
          "base_uri": "https://localhost:8080/",
          "height": 206
        },
        "id": "MGhBQFi831uu",
        "outputId": "feec31ad-8849-4d2a-dd83-2722b2854d2d"
      },
      "execution_count": 338,
      "outputs": [
        {
          "output_type": "execute_result",
          "data": {
            "text/plain": [
              "                                           algorithm  number_of_groups  \\\n",
              "0  Алгоритм, учитывающий перемену слов местами и ...               250   \n",
              "1          Кластеризация с дополнительной обработкой               248   \n",
              "2    Линейная модель, использующая различные метрики               245   \n",
              "3                     Алгоритм, использующий словарь               249   \n",
              "4  Алгоритм, опирающийся на стиль автора, + доп о...               249   \n",
              "\n",
              "   groups_of_size_1  groups_of_size_2  groups_of_size_3  \n",
              "0               170                80                 0  \n",
              "1               164                83                 1  \n",
              "2               161                83                 1  \n",
              "3               169                79                 1  \n",
              "4               166                82                 0  "
            ],
            "text/html": [
              "\n",
              "  <div id=\"df-f0e4ff64-322b-4171-89ab-d5eb171cf505\" class=\"colab-df-container\">\n",
              "    <div>\n",
              "<style scoped>\n",
              "    .dataframe tbody tr th:only-of-type {\n",
              "        vertical-align: middle;\n",
              "    }\n",
              "\n",
              "    .dataframe tbody tr th {\n",
              "        vertical-align: top;\n",
              "    }\n",
              "\n",
              "    .dataframe thead th {\n",
              "        text-align: right;\n",
              "    }\n",
              "</style>\n",
              "<table border=\"1\" class=\"dataframe\">\n",
              "  <thead>\n",
              "    <tr style=\"text-align: right;\">\n",
              "      <th></th>\n",
              "      <th>algorithm</th>\n",
              "      <th>number_of_groups</th>\n",
              "      <th>groups_of_size_1</th>\n",
              "      <th>groups_of_size_2</th>\n",
              "      <th>groups_of_size_3</th>\n",
              "    </tr>\n",
              "  </thead>\n",
              "  <tbody>\n",
              "    <tr>\n",
              "      <th>0</th>\n",
              "      <td>Алгоритм, учитывающий перемену слов местами и ...</td>\n",
              "      <td>250</td>\n",
              "      <td>170</td>\n",
              "      <td>80</td>\n",
              "      <td>0</td>\n",
              "    </tr>\n",
              "    <tr>\n",
              "      <th>1</th>\n",
              "      <td>Кластеризация с дополнительной обработкой</td>\n",
              "      <td>248</td>\n",
              "      <td>164</td>\n",
              "      <td>83</td>\n",
              "      <td>1</td>\n",
              "    </tr>\n",
              "    <tr>\n",
              "      <th>2</th>\n",
              "      <td>Линейная модель, использующая различные метрики</td>\n",
              "      <td>245</td>\n",
              "      <td>161</td>\n",
              "      <td>83</td>\n",
              "      <td>1</td>\n",
              "    </tr>\n",
              "    <tr>\n",
              "      <th>3</th>\n",
              "      <td>Алгоритм, использующий словарь</td>\n",
              "      <td>249</td>\n",
              "      <td>169</td>\n",
              "      <td>79</td>\n",
              "      <td>1</td>\n",
              "    </tr>\n",
              "    <tr>\n",
              "      <th>4</th>\n",
              "      <td>Алгоритм, опирающийся на стиль автора, + доп о...</td>\n",
              "      <td>249</td>\n",
              "      <td>166</td>\n",
              "      <td>82</td>\n",
              "      <td>0</td>\n",
              "    </tr>\n",
              "  </tbody>\n",
              "</table>\n",
              "</div>\n",
              "    <div class=\"colab-df-buttons\">\n",
              "\n",
              "  <div class=\"colab-df-container\">\n",
              "    <button class=\"colab-df-convert\" onclick=\"convertToInteractive('df-f0e4ff64-322b-4171-89ab-d5eb171cf505')\"\n",
              "            title=\"Convert this dataframe to an interactive table.\"\n",
              "            style=\"display:none;\">\n",
              "\n",
              "  <svg xmlns=\"http://www.w3.org/2000/svg\" height=\"24px\" viewBox=\"0 -960 960 960\">\n",
              "    <path d=\"M120-120v-720h720v720H120Zm60-500h600v-160H180v160Zm220 220h160v-160H400v160Zm0 220h160v-160H400v160ZM180-400h160v-160H180v160Zm440 0h160v-160H620v160ZM180-180h160v-160H180v160Zm440 0h160v-160H620v160Z\"/>\n",
              "  </svg>\n",
              "    </button>\n",
              "\n",
              "  <style>\n",
              "    .colab-df-container {\n",
              "      display:flex;\n",
              "      gap: 12px;\n",
              "    }\n",
              "\n",
              "    .colab-df-convert {\n",
              "      background-color: #E8F0FE;\n",
              "      border: none;\n",
              "      border-radius: 50%;\n",
              "      cursor: pointer;\n",
              "      display: none;\n",
              "      fill: #1967D2;\n",
              "      height: 32px;\n",
              "      padding: 0 0 0 0;\n",
              "      width: 32px;\n",
              "    }\n",
              "\n",
              "    .colab-df-convert:hover {\n",
              "      background-color: #E2EBFA;\n",
              "      box-shadow: 0px 1px 2px rgba(60, 64, 67, 0.3), 0px 1px 3px 1px rgba(60, 64, 67, 0.15);\n",
              "      fill: #174EA6;\n",
              "    }\n",
              "\n",
              "    .colab-df-buttons div {\n",
              "      margin-bottom: 4px;\n",
              "    }\n",
              "\n",
              "    [theme=dark] .colab-df-convert {\n",
              "      background-color: #3B4455;\n",
              "      fill: #D2E3FC;\n",
              "    }\n",
              "\n",
              "    [theme=dark] .colab-df-convert:hover {\n",
              "      background-color: #434B5C;\n",
              "      box-shadow: 0px 1px 3px 1px rgba(0, 0, 0, 0.15);\n",
              "      filter: drop-shadow(0px 1px 2px rgba(0, 0, 0, 0.3));\n",
              "      fill: #FFFFFF;\n",
              "    }\n",
              "  </style>\n",
              "\n",
              "    <script>\n",
              "      const buttonEl =\n",
              "        document.querySelector('#df-f0e4ff64-322b-4171-89ab-d5eb171cf505 button.colab-df-convert');\n",
              "      buttonEl.style.display =\n",
              "        google.colab.kernel.accessAllowed ? 'block' : 'none';\n",
              "\n",
              "      async function convertToInteractive(key) {\n",
              "        const element = document.querySelector('#df-f0e4ff64-322b-4171-89ab-d5eb171cf505');\n",
              "        const dataTable =\n",
              "          await google.colab.kernel.invokeFunction('convertToInteractive',\n",
              "                                                    [key], {});\n",
              "        if (!dataTable) return;\n",
              "\n",
              "        const docLinkHtml = 'Like what you see? Visit the ' +\n",
              "          '<a target=\"_blank\" href=https://colab.research.google.com/notebooks/data_table.ipynb>data table notebook</a>'\n",
              "          + ' to learn more about interactive tables.';\n",
              "        element.innerHTML = '';\n",
              "        dataTable['output_type'] = 'display_data';\n",
              "        await google.colab.output.renderOutput(dataTable, element);\n",
              "        const docLink = document.createElement('div');\n",
              "        docLink.innerHTML = docLinkHtml;\n",
              "        element.appendChild(docLink);\n",
              "      }\n",
              "    </script>\n",
              "  </div>\n",
              "\n",
              "\n",
              "<div id=\"df-dce62eeb-b3a8-4bd4-9aca-a9b74d5e26be\">\n",
              "  <button class=\"colab-df-quickchart\" onclick=\"quickchart('df-dce62eeb-b3a8-4bd4-9aca-a9b74d5e26be')\"\n",
              "            title=\"Suggest charts\"\n",
              "            style=\"display:none;\">\n",
              "\n",
              "<svg xmlns=\"http://www.w3.org/2000/svg\" height=\"24px\"viewBox=\"0 0 24 24\"\n",
              "     width=\"24px\">\n",
              "    <g>\n",
              "        <path d=\"M19 3H5c-1.1 0-2 .9-2 2v14c0 1.1.9 2 2 2h14c1.1 0 2-.9 2-2V5c0-1.1-.9-2-2-2zM9 17H7v-7h2v7zm4 0h-2V7h2v10zm4 0h-2v-4h2v4z\"/>\n",
              "    </g>\n",
              "</svg>\n",
              "  </button>\n",
              "\n",
              "<style>\n",
              "  .colab-df-quickchart {\n",
              "      --bg-color: #E8F0FE;\n",
              "      --fill-color: #1967D2;\n",
              "      --hover-bg-color: #E2EBFA;\n",
              "      --hover-fill-color: #174EA6;\n",
              "      --disabled-fill-color: #AAA;\n",
              "      --disabled-bg-color: #DDD;\n",
              "  }\n",
              "\n",
              "  [theme=dark] .colab-df-quickchart {\n",
              "      --bg-color: #3B4455;\n",
              "      --fill-color: #D2E3FC;\n",
              "      --hover-bg-color: #434B5C;\n",
              "      --hover-fill-color: #FFFFFF;\n",
              "      --disabled-bg-color: #3B4455;\n",
              "      --disabled-fill-color: #666;\n",
              "  }\n",
              "\n",
              "  .colab-df-quickchart {\n",
              "    background-color: var(--bg-color);\n",
              "    border: none;\n",
              "    border-radius: 50%;\n",
              "    cursor: pointer;\n",
              "    display: none;\n",
              "    fill: var(--fill-color);\n",
              "    height: 32px;\n",
              "    padding: 0;\n",
              "    width: 32px;\n",
              "  }\n",
              "\n",
              "  .colab-df-quickchart:hover {\n",
              "    background-color: var(--hover-bg-color);\n",
              "    box-shadow: 0 1px 2px rgba(60, 64, 67, 0.3), 0 1px 3px 1px rgba(60, 64, 67, 0.15);\n",
              "    fill: var(--button-hover-fill-color);\n",
              "  }\n",
              "\n",
              "  .colab-df-quickchart-complete:disabled,\n",
              "  .colab-df-quickchart-complete:disabled:hover {\n",
              "    background-color: var(--disabled-bg-color);\n",
              "    fill: var(--disabled-fill-color);\n",
              "    box-shadow: none;\n",
              "  }\n",
              "\n",
              "  .colab-df-spinner {\n",
              "    border: 2px solid var(--fill-color);\n",
              "    border-color: transparent;\n",
              "    border-bottom-color: var(--fill-color);\n",
              "    animation:\n",
              "      spin 1s steps(1) infinite;\n",
              "  }\n",
              "\n",
              "  @keyframes spin {\n",
              "    0% {\n",
              "      border-color: transparent;\n",
              "      border-bottom-color: var(--fill-color);\n",
              "      border-left-color: var(--fill-color);\n",
              "    }\n",
              "    20% {\n",
              "      border-color: transparent;\n",
              "      border-left-color: var(--fill-color);\n",
              "      border-top-color: var(--fill-color);\n",
              "    }\n",
              "    30% {\n",
              "      border-color: transparent;\n",
              "      border-left-color: var(--fill-color);\n",
              "      border-top-color: var(--fill-color);\n",
              "      border-right-color: var(--fill-color);\n",
              "    }\n",
              "    40% {\n",
              "      border-color: transparent;\n",
              "      border-right-color: var(--fill-color);\n",
              "      border-top-color: var(--fill-color);\n",
              "    }\n",
              "    60% {\n",
              "      border-color: transparent;\n",
              "      border-right-color: var(--fill-color);\n",
              "    }\n",
              "    80% {\n",
              "      border-color: transparent;\n",
              "      border-right-color: var(--fill-color);\n",
              "      border-bottom-color: var(--fill-color);\n",
              "    }\n",
              "    90% {\n",
              "      border-color: transparent;\n",
              "      border-bottom-color: var(--fill-color);\n",
              "    }\n",
              "  }\n",
              "</style>\n",
              "\n",
              "  <script>\n",
              "    async function quickchart(key) {\n",
              "      const quickchartButtonEl =\n",
              "        document.querySelector('#' + key + ' button');\n",
              "      quickchartButtonEl.disabled = true;  // To prevent multiple clicks.\n",
              "      quickchartButtonEl.classList.add('colab-df-spinner');\n",
              "      try {\n",
              "        const charts = await google.colab.kernel.invokeFunction(\n",
              "            'suggestCharts', [key], {});\n",
              "      } catch (error) {\n",
              "        console.error('Error during call to suggestCharts:', error);\n",
              "      }\n",
              "      quickchartButtonEl.classList.remove('colab-df-spinner');\n",
              "      quickchartButtonEl.classList.add('colab-df-quickchart-complete');\n",
              "    }\n",
              "    (() => {\n",
              "      let quickchartButtonEl =\n",
              "        document.querySelector('#df-dce62eeb-b3a8-4bd4-9aca-a9b74d5e26be button');\n",
              "      quickchartButtonEl.style.display =\n",
              "        google.colab.kernel.accessAllowed ? 'block' : 'none';\n",
              "    })();\n",
              "  </script>\n",
              "</div>\n",
              "    </div>\n",
              "  </div>\n"
            ]
          },
          "metadata": {},
          "execution_count": 338
        }
      ]
    },
    {
      "cell_type": "code",
      "source": [],
      "metadata": {
        "id": "bJsg4Tx4qMad"
      },
      "execution_count": 338,
      "outputs": []
    }
  ]
}